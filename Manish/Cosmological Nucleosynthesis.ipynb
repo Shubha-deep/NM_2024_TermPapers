{
 "cells": [
  {
   "cell_type": "markdown",
   "id": "474e7ae8-43e6-412e-bf7a-a626b7c44dce",
   "metadata": {},
   "source": [
    "# Numerical Method Term Paper \n",
    "\n",
    "## Cosmological Nucleosynthesis\n",
    "### By Manish Jain"
   ]
  },
  {
   "cell_type": "markdown",
   "id": "fc7568b3-66aa-4863-9a9b-d3ca359749b9",
   "metadata": {},
   "source": [
    "## Introduction\n",
    "In this report, we shall consider the synthesis of elements on short time scales and at very high temperature in the early universe.  The time scales are typically of the order of $10-10^3$ sec, while the temperature range upward of $10^9 K$ . We shall consider the majority of the components in the universe to be electron, positron, photons and the neutrinos. Out Target is to find the evolution of the mass fraction of different nuclei thats been formed in the early universe from 10^10 to 10^8 K.\\\\\n",
    "At around $10^12$ K, the stable nucleons in the universe are newutrons and protons and the weaker -interactions allow the neutrin-proton conversion through following processes:-\n",
    "\\begin{align}\n",
    "n + \\nu \\rightleftharpoons p + e^{-}\\\\\n",
    "n \\rightleftharpoons p + e^{-} + \\nu ^{-}\\\\\n",
    "n +e^{+} \\rightleftharpoons p +\\nu\n",
    "\\end{align}\n",
    "The differential equation governing the neutron fraction $X_n  =  n_n/n_N$ is \n",
    "\\begin{align}\n",
    "\\frac{dX_n}{dt} =  -\\lambda (n \\rightarrow p) + \\lambda (p \\rightarrow n)(1-X_n)\n",
    "\\end{align}\n",
    "where $n_N$ being the number density of nucleons and $\\lambda$ is the reaction rates. "
   ]
  },
  {
   "cell_type": "markdown",
   "id": "f9e79cea-9bdc-4e59-a34d-02a4f6781d96",
   "metadata": {},
   "source": [
    "At about 1 MeV, the neutrinos decouples from the plasma and at the same time the weak interactions starts to freeze out and possible lighter nuclei starts to produce from p, n reations such as Deutron ($H^2$), Tritium ($H^3$), $He^3$ and $\\alpha$ particles $He^4$. We shall take into account 11 nuclear reactions as given below along with their reaction rates. "
   ]
  },
  {
   "cell_type": "code",
   "execution_count": 163,
   "id": "e7d7ae9b-cb79-40cd-b548-7e8530b0e616",
   "metadata": {},
   "outputs": [],
   "source": [
    "import numpy as np\n",
    "import matplotlib.pyplot as plt\n",
    "from numpy import pi\n",
    "from scipy.integrate import solve_ivp,quad\n",
    "from scipy.special import roots_laguerre\n",
    "from scipy.interpolate import interp1d\n"
   ]
  },
  {
   "cell_type": "code",
   "execution_count": 2,
   "id": "61e17b73-855e-4a7a-9bc3-89a74a929cb3",
   "metadata": {},
   "outputs": [],
   "source": [
    "hbar = 6.582e-22# (Planck constant / 2pi) / MeV s\n",
    "c = 3e10# light velocity / cm/s\n",
    "Grav = 6.7e-45# gravitaion constant / hbar c^5 MeV^-2\n",
    "me = 0.51# electrom mass / MeV\n",
    "rad_const = pi*pi/15# radiation constant / (hbar*c)^-3\n",
    "mp = 938.3# proton mass / MeV\n",
    "mn = 939.5# neutron mass / MeV\n",
    "tau_n = 885.7# neutron mean lifetime / s\n",
    "kB = 8.62e-11# Boltzmann constant / MeV/K\n",
    "NA = 6.02e23# Avogadro number / mol^-1\n",
    "amu = 931.5# atomic mass unit / MeV\n",
    "zeta3 = 1.2# apery number"
   ]
  },
  {
   "cell_type": "markdown",
   "id": "88f3788e-4a7a-406c-b49e-3159da5330c6",
   "metadata": {},
   "source": [
    "We shall consider following 11 reactions along with their reaction rates \n",
    "\\begin{align*}\n",
    "1) &p + n \\rightleftharpoons d + \\gamma;\\\\\n",
    "     &4.742 \\times 10^4 \\times \\left(1 - 0.850T_9^{1/2}  + 0.490T_9 - 0.0962T_9^{3/2} + 8.47 \\times 10^{-3}T_9^2 - 2.80 \\times 10^{-4}T_9^{5/2} \\right)\\\\\n",
    "2) &p + d \\rightleftharpoons He^3 + \\gamma;\\\\\n",
    " & 2.65 \\times 10^3 T_9^{-2/3}  \\exp \\left(\\frac{-3.720}{ T_9^{1/3}} \\right) \\times \\left(1 + 0.112T_9^{1/3} + 1.99T_9^{2/3} + 1.56T_9 + 0.162T_9^{4/3} + 0.324T_9^{5/3} \\right)\\\\\n",
    "3) &d+d \\rightleftharpoons He^3 + n\\\\\n",
    "& 3.95 \\times 10^8 T_9^{-\\frac{2}{3}} \\exp \\left( -\\frac{4.259}{ T_9^{\\frac{1}{3}}} \\right) \\times \\left(1 + 0.098T_9^{\\frac{1}{3}} + 0.765T_9^{\\frac{2}{3}} + 0.525T_9 + 9.61 \\times 10^{-3} T_9^{\\frac{4}{3}} + 0.0167T_9^{\\frac{5}{3}} \\right)\\\\\n",
    "4) &d + d \\rightleftharpoons ^3H + p:\\\\\n",
    "&\\ 4.17 \\times 10^8 T_9^{-\\frac{2}{3}} \\exp \\left(-\\frac{4.258}{T_9^{\\frac{1}{3}}} \\right) \\left(1 + 0.098T_9^{\\frac{1}{3}} + 0.518T_9^{\\frac{2}{3}} + 0.355T_9 - 0.010T_9^{\\frac{4}{3}} - 0.018T_9^{\\frac{5}{3}} \\right)\\\\\n",
    "5) &He^3 + n \\rightleftharpoons H^3 + p\\\\\n",
    "&7.21 \\times 10^8 \\left(1 - 0.508T_9^{\\frac{1}{2}} + 0.228T_9 \\right)\\\\\n",
    "6) &H^3 + d \\rightleftharpoons He^4 + n\\\\\n",
    "& 1.063 \\times 10^{11} T_9^{-\\frac{2}{3}} \\exp \\left(-\\frac{4.559} {T_9^{\\frac{1}{3}}} \\right) \\left(1 + 0.092T_9^{\\frac{1}{3}}- 0.375T_9^{\\frac{2}{3}} - 0.242T_9 + 33.82T_9^{\\frac{4}{3}} + 55.42T_9^{\\frac{5}{3}} \\right) + 8.047 \\times 10^8 T_9^{-\\frac{2}{3}} \\exp \\left(-0.4857 T_9 \\right)\\\\\n",
    "7) & He^3 +d \\rightleftharpoons He^4 +p:\\\\\n",
    "& 5.021 \\times 10^{10} T_9^{-\\frac{2}{3}} \\exp \\left( -\\frac{7.144} {T_9^{\\frac{1}{3}}} \\right) \\times \\left( T_9^{0.270} \\right)^2 \\times \\left(1 + 0.058T^{\\frac{1}{3}_9} + 0.603T^{\\frac{2}{3}_9} + 0.245T_9 + 6.97T^{\\frac{4}{3}_9} + 7.19T^{\\frac{5}{3}_9} \\right) + 5.212 \\times 10^8 T^{-\\frac{1}{2}_9} \\exp \\left( -\\frac{1.762} {T_9} \\right)\\\\\n",
    "8) &He^3 + He^4 \\rightleftharpoons Be^7 + \\gamma \\\\\n",
    "&4.817 \\times 10^6 T_9^{-\\frac{2}{3}} \\exp \\left(-\\frac{14.964} {T_9^{\\frac{1}{3}}} \\right) \\left(1 + 0.0325 T_9^{\\frac{1}{3}} - 1.04 \\times 10^{-3} T_9^{\\frac{2}{3}} - 2.37 \\times 10^{-4} T_9 - 8.11 \\times 10^{-5} T_9^{\\frac{4}{3}} - 4.69 \\times 10^{-5} T_9^{\\frac{5}{3}} \\right) + 5.938 \\times 10^6 T_9^{-\\frac{3}{2}} \\left( \\frac{T_9}{1 + 0.1071T_9} \\right)^{\\frac{5}{6}} \\exp \\left(-12.859 \\frac{(1 + 0.1071T_9)^{\\frac{1}{3}}}{T_9^{\\frac{1}{3}}} \\right)\\\\\n",
    "9) & H^3 + He^4 \\rightleftharpoons Li^7 + \\gamma:\\\\\n",
    " & 3.032 \\times 10^5 T_9^{-\\frac{2}{3}} \\exp \\left(-\\frac{8.090} {T_9^{\\frac{1}{3}}} \\right) \\left(1 + 0.0516 T_9^{\\frac{1}{3}} + 0.0229 T_9^{\\frac{2}{3}} + 8.28 \\times 10^{-3} T_9 - 3.28 \\times 10^{-4} T_9^{\\frac{4}{3}} - 3.01 \\times 10^{-4} T_9^{\\frac{5}{3}} \\right) + 5.109 \\times 10^5 T_9^{-\\frac{3}{2}} \\left( \\frac{T_9}{1 + 0.1378T_9} \\right)^{\\frac{5}{6}} \\exp \\left(-8.068 \\frac{(1 + 0.1378T_9)^{\\frac{1}{3}}}{T_9^{\\frac{1}{3}}} \\right)\\\\\n",
    "10) &Be^7 + n \\to Li^7 + p \\\\\n",
    " &  2.675 \\times 10^9 T_9^{-\\frac{2}{3}} \\left(1 - 0.560 T_9^{\\frac{1}{2}} + 0.179 T_9 - 0.0283 T_9^{\\frac{3}{2}} + 2.21 \\times 10^{-3} T_9^2 - 6.85 \\times 10^{-5} T_9^{\\frac{5}{2}} \\right) + 9.391 \\times 10^8 \\left(\\frac{1}{1 + 13.076 T_9} \\right)^{\\frac{3}{2}} + 4.467 \\times 10^7 T_9^{-\\frac{3}{2}} \\exp \\left(-0.07486 T_9 \\right)\\\\\n",
    "11) &Li^7 + p \\rightleftharpoons He^4 + He^4\\\\\n",
    "& 1.096 \\times 10^9 T_9^{-\\frac{2}{3}} \\exp \\left(-\\frac{8.472}{ T_9^{\\frac{1}{3}}} \\right) - 4.830 \\times 10^8 T_9^{-\\frac{3}{2}} \\left(\\frac{T_9}{1 + 0.759 T_9} \\right)^{\\frac{5}{6}} \\exp \\left(-8.472 \\ast \\left(1 + 0.759 T_9 \\right)^{\\frac{1}{3}} \\right) + 1.06 \\times 10^{10} T_9^{-\\frac{3}{2}} \\exp \\left(-30.442 T_9 \\right) + 1.56 \\times 10^5 T_9^{-\\frac{2}{3}} \\exp \\left(-8.472 T_9^{\\frac{1}{3}} - \\left(\\frac{T_9}{1.696} \\right)^2 \\right) \\times \\left(1 + 0.049 T_9^{\\frac{1}{3}} - 2.498 T_9^{\\frac{2}{3}} + 0.860 T_9 + 3.518 T_9^{\\frac{4}{3}} + 3.08 T_9^{\\frac{5}{3}} \\right) + 1.55 \\times 10^6 T_9^{-\\frac{3}{2}} \\exp \\left(-4.478 T_9 \\right)\n",
    "\\end{align*}"
   ]
  },
  {
   "cell_type": "code",
   "execution_count": 138,
   "id": "9b8da135-6c47-46e5-9431-c8ab1568da51",
   "metadata": {},
   "outputs": [],
   "source": [
    "class particle:\n",
    "    def __init__(self, mass, spin, name):\n",
    "        self.mass = mass\n",
    "        self.spin = spin\n",
    "        self.name = name\n",
    "        self.mass_num = int(np.round(mass/amu))\n",
    "        \n",
    "    def __hash__(self):\n",
    "        return hash((self.mass, self.spin))\n",
    "\n",
    "proton = particle(938.272013, 2, 'proton')\n",
    "neutron = particle(939.565346, 2, 'neutron')\n",
    "deutron = particle(1875.612793, 3, 'deutron')\n",
    "tritium = particle(2808.920906, 2, 'tritium')\n",
    "helium3 = particle(2808.391383, 2, 'helium3')\n",
    "helium4 = particle(3727.379109, 1, 'helium4')\n",
    "lithium7 = particle(6533.833166, 4, 'lithium7')\n",
    "beryllium7 = particle(6534.184060, 4, 'beryllium7')\n",
    "\n",
    "reaction = [\n",
    "    {'reactor':[neutron,proton], 'product':[deutron], 'use':True},\n",
    "    {'reactor':[deutron,proton], 'product':[helium3], 'use':True},\n",
    "    {'reactor':[deutron,deutron], 'product':[helium3,neutron], 'use':True},\n",
    "    {'reactor':[deutron,deutron], 'product':[tritium,proton], 'use':True},\n",
    "    {'reactor':[helium3,neutron], 'product':[tritium,proton], 'use':True},\n",
    "    {'reactor':[tritium,deutron], 'product':[helium4,neutron], 'use':True},\n",
    "    {'reactor':[helium3,deutron], 'product':[helium4,proton], 'use':True},\n",
    "    {'reactor':[helium3,helium4], 'product':[beryllium7], 'use':True},\n",
    "    {'reactor':[helium4,tritium], 'product':[lithium7], 'use':True},\n",
    "    {'reactor':[beryllium7, neutron], 'product':[lithium7,proton], 'use':True},\n",
    "    {'reactor':[lithium7, proton], 'product':[helium4,helium4], 'use':True }\n",
    "]\n",
    "\n",
    "\n",
    "mask = [r['use'] for r in reaction]\n",
    "reaction = [{k:r[k] for k in ['reactor','product']}\n",
    "            for r in reaction if r['use']] # remove unused reactions\n",
    "element = list({p for r in reaction\n",
    "                for q in r.values() for p in q})"
   ]
  },
  {
   "cell_type": "code",
   "execution_count": 109,
   "id": "d0ef447d-5fd5-4091-9fc9-2e0359bcaa34",
   "metadata": {},
   "outputs": [],
   "source": [
    "# Defining reaction rate function which returns <σ v> (with dimension cm^3 s^-1) averaged over Maxwell distribution of v where σ is \n",
    "#the cross section \n",
    "def reaction_rate(T):\n",
    "    \"\"\"\n",
    "    T = temperature / MeV\n",
    "    return <sigma v> / cm^3 s^-1 averaged over Maxwell distribution of v where sigma = cross section of reaction \n",
    "    \"\"\"\n",
    "    T9 = T/kB*1e-9\n",
    "    T912 = np.sqrt(T9)\n",
    "    T932 = T9*T912\n",
    "    T913 = T9**(1/3)\n",
    "    T923 = T913**2\n",
    "    T943 = T923**2\n",
    "    T953 = T9*T923\n",
    "    T9f = T9/(1 + 0.1071*T9)\n",
    "    T9f13 = T9f**(1/3)\n",
    "    T9f56 = T9f**(5/6)\n",
    "    T9e = T9/(1 + 0.1378*T9)\n",
    "    T9e13 = T9e**(1/3)\n",
    "    T9e56 = T9e**(5/6)\n",
    "    T9a = T9/(1 + 13.076*T9)\n",
    "    T9a32 = T9a**1.5\n",
    "    T9d = T9/(1 + 0.759*T9)\n",
    "    T9d13 = T9d**(1/3)\n",
    "    T9d56 = T9d**(5/6)\n",
    "\n",
    "\n",
    "    return np.asarray([\n",
    "        # n + p -> d + gamma\n",
    "        4.742e+4*(1. - .8504*T912 + .4895*T9 - .09623*T932\n",
    "                  + 8.471e-3*T9*T9 -2.80e-4*T9*T932),\n",
    "        # p + d -> 3He + gamma\n",
    "        2.65e+3/T923*np.exp(-3.720/T913)*(\n",
    "            1. + .112*T913 + 1.99*T923\n",
    "            + 1.56*T9 + .162*T943 + .324*T953),\n",
    "        # d + d -> n + 3He\n",
    "        3.95e+8/T923*np.exp(-4.259/T913)*(\n",
    "            1. + .098*T913 + .765*T923 + .525*T9\n",
    "            + 9.61e-3*T943 + .0167*T953),\n",
    "        # d + d -> p + t\n",
    "        4.17e+8/T923*np.exp(-4.258/T913)*(\n",
    "            1. + .098*T913 + .518*T923 + .355*T9\n",
    "            - .010*T943 - .018*T953),\n",
    "        # n + 3He -> p + t\n",
    "    \t7.21e+8*(1. - .508*T912 + .228*T9),\n",
    "        # d + t -> n + 4He\n",
    "    \t1.063e+11/T923*np.exp(-4.559/T913 - (T9/.0754)**2)*(\n",
    "            1. + .092*T913 - .375*T923 - .242*T9\n",
    "            + 33.82*T943 + 55.42*T953\n",
    "            ) + 8.047e+8/T923*np.exp(-0.4857/T9),\n",
    "        # 3He + d -> 4He + p\n",
    "    \t5.021e+10/T923*np.exp(-7.144/T913 - (T9/.270)**2)*(\n",
    "            1. + .058*T913 + .603*T923 + .245*T9\n",
    "            + 6.97*T943 + 7.19*T953\n",
    "            ) + 5.212e+8/T912*np.exp(-1.762/T9),\n",
    "        # 3He + 4He -> 7Be + gamma\n",
    "\t4.817e+6/T923*np.exp(-14.964/T913)*(\n",
    "            1. + .0325*T913 - 1.04e-3*T923 - 2.37e-4*T9\n",
    "            - 8.11e-5*T943 - 4.69e-5*T953\n",
    "            ) + 5.938e+6*T9f56/T932*np.exp(-12.859/T9f13),\n",
    "        # 4He + t -> 7Li + gamma\n",
    "    \t3.032e+5/T923*np.exp(-8.090/T913)*(\n",
    "            1. + .0516*T913 + .0229*T923 + 8.28e-3*T9\n",
    "            - 3.28e-4*T943 - 3.01e-4*T953\n",
    "            ) + 5.109e+5*T9e56/T932*np.exp(-8.068/T9e13),\n",
    "        # 7Be + n -> 7Li + p\n",
    "    \t2.675e+9*(1. - .560*T912 + .179*T9 - .0283*T932\n",
    "                  + 2.214e-3*T9*T9 - 6.851e-5*T9*T932\n",
    "            ) + 9.391e+8*T9a32/T932 + 4.467e+7/T932*np.exp(-0.07486/T9),\n",
    "        # 7Li + p -> 4He + 4He\n",
    "    \t1.096e+9/T923*np.exp(-8.472/T913) \\\n",
    "        - 4.830e+8*T9d56/T932*np.exp(-8.472/T9d13) \\\n",
    "    \t+ 1.06e+10/T932*np.exp(-30.442/T9) \\\n",
    "        + 1.56e+5/T923*np.exp((-8.472/T913) - (T9/1.696)**2)*(\n",
    "            1. + .049*T913 - 2.498*T923 + .860*T9\n",
    "            + 3.518*T943 + 3.08*T953\n",
    "            ) + 1.55e+6/T932*np.exp(-4.478/T9)])"
   ]
  },
  {
   "cell_type": "markdown",
   "id": "d203f584-fa25-4506-a633-831cd725a30a",
   "metadata": {},
   "source": [
    "Given the reaction rates, the abundance of nuclei of type i is evolved by , \n",
    "\\begin{align}\n",
    "\\frac{1}{A_i}\\frac{dX_i}{dt} =  \\pm \\sum_j \\frac{X_j}{A_j}\\lambda_k(j) \\pm \\sum_{j {\\ge}k}\\frac{X_j}{A_j}\\frac{X_k}{A_k}[jk]\n",
    "\\end{align}\n",
    "where $X_i$ is the mass fraction,  $\\lambda_k(j)$ is inverse mean lifetime for the reaction between a lepton or photon(k) with a nucleus j. If j = i, the sign is negative , otherwise positive. Also $[jk]$ = $\\rho_B N_A <\\sigma v>_{jk}$ is the reaction rate for the reaction between nuclei of type \"j\" and \"k\" and where $\\sigma$ being the cross-section of the reaction and v is the relative velocity. "
   ]
  },
  {
   "cell_type": "markdown",
   "id": "e9a883c1-6128-428a-8d71-7c5d7b027b44",
   "metadata": {},
   "source": [
    "The differential equations above have derivative with respect to time but all the quantities i.e the reaction rates are known as a function of temperature. Thus it si convenient to choose temperature as independent parameter of time. WE define temperature as  function through the differential equation,\n",
    "\\begin{align}\n",
    "\\boxed{\\frac{dt}{dT} = -\\frac{1}{HT}} \\to (1)\n",
    "\\end{align}"
   ]
  },
  {
   "cell_type": "markdown",
   "id": "9bed47d9-15a5-4684-b88f-cfbc78d2b8e0",
   "metadata": {},
   "source": [
    "And the Hubble constant is given by \n",
    "\\begin{align}\n",
    "H = \\sqrt{\\frac{8 \\pi G \\rho}{3 c^2}}\n",
    "\\end{align}"
   ]
  },
  {
   "cell_type": "markdown",
   "id": "4f445ab3-e282-411e-8ee4-27bf6cb2a210",
   "metadata": {},
   "source": [
    "Considering neutrinos, photons , electrons and positrons as the major components in the universe ,\n",
    "\\begin{align}\n",
    "\\rho(T) = a_B T^4 \\epsilon(m_e/k_BT)\\\\\n",
    "\\epsilon(x) = 1+\\frac{21}{8}\\left(\\frac{4\\mathcal{S}}{11}\\right)^{4/3}+\\frac{30}{\\pi^4}\\int_0^\\infty dy \\frac{y^2 \\sqrt{y^2+x^2}}{exp(\\sqrt{y^2+x^2}+1)}\\\\\n",
    "\\mathcal{S}(x) = 1+\\frac{45}{2\\pi^4}\\int_0^{\\infty} y^2 dy \\left( \\sqrt{y^2+x^2}+\\frac{y^2}{3 \\sqrt{y^2+x^2}}\\right)\\frac{1}{\\exp \\sqrt{y^2+x^2}+1}\n",
    "\\end{align}\n",
    "and \n",
    "$$a_B = \\frac{\\pi^2 k_B ^4}{15 \\hbar^3 c^3}$$"
   ]
  },
  {
   "cell_type": "markdown",
   "id": "e6d4c2fc-2a87-4a8f-beee-bd7f9beae614",
   "metadata": {},
   "source": [
    "## The above integration has benn numerically solved using Gauss- Laguerre quadrature method."
   ]
  },
  {
   "cell_type": "markdown",
   "id": "a9df0c2f-4628-4a16-a060-523d307ee3cf",
   "metadata": {},
   "source": [
    "Also, using the entropy conservation and evolving the Friedman equation,  the neutrino temperature is given by \n",
    "\\begin{align}\n",
    "T_\\nu = \\left(\\frac{4}{11}\\right)^{1/3} T \\mathcal{S}(m_e/k_BT)\\\\\n",
    "\\boxed{\\frac{dT_\\nu}{dT} = \\left(\\frac{4}{11}\\right)^{1/3} \\mathcal{S}(m_e/k_BT)} \\to(2)\n",
    "\\end{align}"
   ]
  },
  {
   "cell_type": "markdown",
   "id": "44495b5a-d969-41ba-af74-9915fa53a340",
   "metadata": {},
   "source": [
    "## The two boxed coupled equations are solved using solve_ivp method."
   ]
  },
  {
   "cell_type": "markdown",
   "id": "05ea336a-d3e3-43bb-a12f-a31920fcb1d9",
   "metadata": {},
   "source": [
    "## Numerical evolution"
   ]
  },
  {
   "cell_type": "code",
   "execution_count": 110,
   "id": "bd1f0a38-1854-4525-89ea-9d45b34e019f",
   "metadata": {},
   "outputs": [],
   "source": [
    "N = 64 # number of nodes for gaussian quadrature\n",
    "node,weight = roots_laguerre(N)\n",
    "G8P3 = np.sqrt(8*np.pi*Grav/3)/hbar;"
   ]
  },
  {
   "cell_type": "code",
   "execution_count": 140,
   "id": "6a9c6d04-73a0-4f11-9cfe-1cf85aecd836",
   "metadata": {},
   "outputs": [],
   "source": [
    "# Defining a function that takes temperature in MeV returns the Energy density of the plasma containing electrons and positrons \n",
    "def electron_gas(T):\n",
    "    a = np.expand_dims(me/T, -1)\n",
    "    x = node\n",
    "    x2 = x*x\n",
    "    y = np.sqrt(x*x + a*a)\n",
    "    z = np.exp(y)\n",
    "    f = np.asarray([y, x2/y/3, y*y*z/(z+1)])\n",
    "    f*= x2/(z+1)*np.exp(x)\n",
    "    f = np.dot(f, weight) # integral [0,infty]\n",
    "    f*= T**4*2/np.pi**2 \n",
    "    return f"
   ]
  },
  {
   "cell_type": "code",
   "execution_count": 112,
   "id": "1976161e-3c8e-4ca2-953c-a69be9cef231",
   "metadata": {},
   "outputs": [],
   "source": [
    "# Defining Differential equation of (1) and (2)\n",
    "def expansion_eq(T, y):\n",
    "    T_nu = y[0] # neutrino temperature\n",
    "    E_nu = a_nu * T_nu**4 # neutrino energy density\n",
    "    E_r = rad_const * T**4 # photon energy density\n",
    "    P_r = E_r/3 # photon pressure\n",
    "    c_r = 4*E_r # photon specific heat * T\n",
    "    E_e, P_e, c_e = electron_gas(T)\n",
    "    E = E_e + E_r\n",
    "    P = P_e + P_r\n",
    "    c = (c_e + c_r)/T\n",
    "    H = G8P3*np.sqrt(E + E_nu) # dln(a)/dt = expansion rate\n",
    "    dy = c/(E+P)/3 # -dln(a)/dT = dln(T_nu)/dT\n",
    "    return [dy*T_nu, -dy/H]"
   ]
  },
  {
   "cell_type": "code",
   "execution_count": 113,
   "id": "910c13f7-55a5-412a-8642-e24fc9498d02",
   "metadata": {},
   "outputs": [],
   "source": [
    "# Solving the coupled differential equation to get T_nu, T and \n",
    "def expansion(T0, T1, N_nu=3, n_step=256):\n",
    "    global a_nu # neutrino radiation constant\n",
    "    a_nu = rad_const*0.875*N_nu\n",
    "    T = np.geomspace(T0, T1, n_step)\n",
    "    s = solve_ivp(expansion_eq, T[[0,-1]], [T0,0], t_eval=T)\n",
    "    return s.t, s.y[0], s.y[1]"
   ]
  },
  {
   "cell_type": "markdown",
   "id": "40db102b-2da8-482d-8c7a-9363e2b4ee2d",
   "metadata": {},
   "source": [
    "At high temperature, proton and neutrons can convert into each other by weak interaction processes\n",
    "\\begin{align}\n",
    "    n+ \\nu_e \\rightleftharpoons p+e^{+} \\\\\n",
    "    n+e^{+} \\rightleftharpoons p+\\bar{\\nu_e}\\\\\n",
    "    n  \\rightleftharpoons p+ e^{-}+\\bar{\\nu_e}\n",
    "\\end{align}\n",
    "Here, the other neutrinos don't contribute to the reactions. The total rates at which individual neutrons is converted to proton or a proton to neutron is given by \n",
    "\\begin{align}\n",
    "    \\lambda(n \\rightarrow p)  = A \\int \\left( 1 - \\frac{m_e^2}{(Q+q)^2}\\right)^{1/2}\\frac{(Q+q)^2q^2 dq}{(1+e^{q/{k_B T_{\\nu}}})(1+e^{-(Q+q)/{K_B T}})},\n",
    "\\end{align}\n",
    "and \n",
    "\\begin{align}\n",
    "     \\lambda(p \\rightarrow n)  = A \\int \\left( 1 - \\frac{m_e^2}{(Q+q)^2}\\right)^{1/2}\\frac{(Q+q)^2q^2 dq}{(1+e^{-q/{k_B T_{\\nu}}})(1+e^{(Q+q)/{K_B T}})},\n",
    "\\end{align}\n",
    "where,\n",
    "\\begin{align}\n",
    "    A \\equiv \\frac{G^2_{wk}(1+3g_A^2)cos^2\\theta_C}{2\\pi^3 \\hbar}.\n",
    "\\end{align}\n",
    "Here, $G_{wk} = 1.16637(1) \\times  10^5 GeV^{-2}$  is the weak coupling constant, measured from the rate of the decay process $\\mu_{+} \\rightarrow e^{+} + \\nu_{e} + \\bar{\\nu}_{\\mu} \\; \\; ; g_A = 1.257$ is the axial vector coupling of beta decay, measured from the rate of neutron decay; and $\\theta_C$ is the Cabibbo angle, with $\\cos \\theta_C = 0.9745(6)$, measured from\n",
    "the rate of $O^{14}$ beta decay and other $0^{+} \\rightarrow 0^{+}$ transitions. Also, the integral over q runs from $- \\infty$ to $\\infty$ leaving out a gap from $q = -Q  + m_e$ to $q = Q - m_e$, with $Q = m_n - m_p =1.293 \\; \\;  \\text{MeV}, m_e = 0.511$ MeV  where the square root would be imaginary. We can now calculate the change in the ratio  $X_n$ of neutrons to all nucleons from the differential equation\n",
    "\\begin{align}\n",
    "    \\frac{dX_n}{dt} = -\\lambda(n \\rightarrow p)X_n + \\lambda( p \\rightarrow n)(1 - X_n)\n",
    "\\end{align}"
   ]
  },
  {
   "cell_type": "code",
   "execution_count": 147,
   "id": "f2a0fdfe-eae3-4c94-a59f-feda3e08ca04",
   "metadata": {},
   "outputs": [],
   "source": [
    "# Defining a function to obtain the reaction rates of the weak equation.\n",
    "def weak_rate(T, T_nu, tau_n=tau_n):\n",
    "    \"\"\" proton-neutron weak interaction\n",
    "    T = photon temperature / MeV\n",
    "    T_nu = neutrino temperature / MeV\n",
    "    tau_n = neutron mean lifetime / sec\n",
    "    return pn,np where\n",
    "      pn = proton to neutron conversion rate / sec^-1\n",
    "      np = neutron to proton conversion rate / sec^-1\n",
    "    \"\"\"\n",
    "    mT = me/T\n",
    "    a = np.expand_dims(mT, -1)\n",
    "    b = np.expand_dims(T/T_nu, -1)\n",
    "    q = 1.0  \n",
    "    c =  q * mT[:, np.newaxis]\n",
    "\n",
    "    x = node\n",
    "    y = x+a\n",
    "    z = np.exp(y)\n",
    "    z1,z2 = np.exp((y+c)*b), np.exp((y-c)*b)\n",
    "    y1,y2 = (y+c)**2/(z1+1), (y-c)**2/(z2+1)\n",
    "    f = np.asarray([y1*z + y2*z2, y2*z + y1*z1])\n",
    "    f *= y*np.sqrt(x*(x+2*a))/(z+1)*np.exp(x)\n",
    "    f = np.dot(f, weight)# integral [0,infty]\n",
    "    return f/mT**5*k/tau_n"
   ]
  },
  {
   "cell_type": "code",
   "execution_count": null,
   "id": "3f9252b1-e9f6-4de5-bb58-2e7e0eff8594",
   "metadata": {},
   "outputs": [],
   "source": [
    "n_index = element.index(neutron)\n",
    "p_index = element.index(proton)\n",
    "\n",
    "N = len(element)  # number of chemical elements\n",
    "M = len(reaction)  # number of nuclear reactions\n",
    "\n",
    "index = np.full((2, 2, M), -1, dtype=np.int)  # table of nuclear reactions\n",
    "bind = np.empty(M)  # binding energy\n",
    "balance = np.empty(M)  # balancing factor for backward reaction\n",
    "A = [e.mass_num for e in element]  # mass number of elements\n",
    "e_name = [e.name for e in element]  # name of elements\n",
    "single = [len(r['product']) == 1 for r in reaction]  # single product or not\n",
    "\n",
    "for k, r in enumerate(reaction):\n",
    "    for i, q in enumerate(r.values()):\n",
    "        for j, p in enumerate(q):\n",
    "            index[i, j, k] = element.index(p)\n",
    "    m = [[p.mass for p in q] for q in r.values()]\n",
    "    g = [[p.spin for p in q] for q in r.values()]\n",
    "    bind[k] = np.sum(m[0]) - np.sum(m[1])\n",
    "    balance[k] = np.prod(g[0]) / np.prod(g[1]) * (\n",
    "            np.prod(m[0]) / np.prod(m[1])) ** 1.5\n",
    "\n",
    "balance[single] /= (2 * np.pi) ** 1.5 * (hbar * c) ** 3\n",
    "\n",
    "\n",
    "def initialize(T_init=1e1, T_final=1e-2, N_nu=3, tau_n=tau_n):\n",
    "    \"\"\" thermodynamics of the early universe\n",
    "    T_init,T_final = temperature / MeV\n",
    "    N_nu = number of neutrino generation\n",
    "    tau_n = neutron mean lifetime / sec\n",
    "    \"\"\"\n",
    "    global T0, T1, T, T_nu, time, p_n, n_p, interp\n",
    "    T0, T1 = T_init, T_final\n",
    "    T, T_nu, time = expansion(10 * T0, T1, N_nu)  # cosmic expansion\n",
    "    p_n, n_p = weak_rate(T, T_nu, tau_n)  # proton-neutron conversion rate\n",
    "    interp = interp1d(time, [T, T_nu, p_n, n_p],\n",
    "                      'cubic', fill_value='extrapolate')\n",
    "\n",
    "\n",
    "initialize()\n"
   ]
  },
  {
   "cell_type": "code",
   "execution_count": null,
   "id": "11bd841a-04cc-4e3b-be4d-3ec52c0f2ccf",
   "metadata": {},
   "outputs": [],
   "source": [
    "#Defining a function which gives the forward reaction rate and the backword reaction rate\n",
    "def rate(T, T_nu):\n",
    "    \"\"\"\n",
    "    T = temperature / MeV\n",
    "    T_nu = neutrino temperature / MeV\n",
    "    return [r1,-r2] (shape (2,M)) where\n",
    "      r1 = forward reaction rate / sec^-1\n",
    "      r2 = backward reaction rate / sec^-1\n",
    "    \"\"\"\n",
    "    n = nhc3 * T_nu ** 3  # number density of nucleons / cm^-3\n",
    "    r = reaction_rate(T)\n",
    "    r[single] /= 2  # halve rate for identical particles\n",
    "    r1 = r * n\n",
    "    r2 = r1 * balance * np.exp(-bind / T)\n",
    "    r2[single] *= T ** 1.5 / n\n",
    "    return np.asarray([r1, -r2])"
   ]
  },
  {
   "cell_type": "code",
   "execution_count": 155,
   "id": "7b1bdd3e-ea44-4635-ba2f-3fb890e92c45",
   "metadata": {},
   "outputs": [],
   "source": [
    "# Defining differential equation from the reaction equation.\n",
    "# dy/dt where y is the number density of element/ nucleon and t is the time in seconds\n",
    "def reaction_eq(t, y):\n",
    "    T, T_nu, p_n, n_p = interp(t)\n",
    "    R = rate(T, T_nu)\n",
    "    X = np.prod(np.append(y, 1)[[label.index(i) for i in index]], axis=1)\n",
    "\n",
    "    print(\"Shape of R:\", R.shape)\n",
    "    print(\"Shape of X:\", X.shape)\n",
    "    X = np.einsum('ij,ij->j', R, X)  # Element-wise multiplication followed by sum along the common index\n",
    "    f = np.zeros(N + 1)\n",
    "    f[n_index] = y[p_index] * p_n - y[n_index] * n_p\n",
    "    f[p_index] = -f[n_index]\n",
    "    for k, X in enumerate(X):\n",
    "        for j in range(2):\n",
    "            f[index[0, j, k]] -= X  # reactor decrease\n",
    "            f[index[1, j, k]] += X  # product increase\n",
    "    return f[:-1]"
   ]
  },
  {
   "cell_type": "code",
   "execution_count": null,
   "id": "26c514a2-c636-4779-9ecb-375fcfc3c7d8",
   "metadata": {},
   "outputs": [],
   "source": [
    "def jac(t, y):\n",
    "    \"\"\" jacobian of reaction_eq used in implicit solver for stiff equation \"\"\"\n",
    "    T, T_nu, p_n, n_p = interp(t)\n",
    "    R = rate(T, T_nu)\n",
    "    X = R[:, np.newaxis, :] * np.append(y, 1)[index]\n",
    "    f = np.zeros((N + 1, N + 1))\n",
    "    f[n_index, n_index] = -n_p\n",
    "    f[n_index, p_index] = p_n\n",
    "    f[p_index, n_index] = n_p\n",
    "    f[p_index, p_index] = -p_n\n",
    "    for k in range(M):\n",
    "        for i in range(2):\n",
    "            for j in range(2):\n",
    "                for l in range(2):\n",
    "                    f[index[0, l, k], index[i, j, k]] -= X[i, 1 - j, k]\n",
    "                    f[index[1, l, k], index[i, j, k]] += X[i, 1 - j, k]\n",
    "    return f[:-1, :-1]"
   ]
  },
  {
   "cell_type": "code",
   "execution_count": 157,
   "id": "bf4515c1-362c-43f6-afeb-a16a07a320e9",
   "metadata": {},
   "outputs": [],
   "source": [
    "# Solving the coupled Reaction equations and get X = mass fraction of elements and T = temperature in MeV.\n",
    "def BBN(eta, index, n_step=256):\n",
    "    global nhc3\n",
    "    nhc3 = 2.75 * eta * 2 * zeta3 / np.pi ** 2 / (hbar * c) ** 3\n",
    "    t0, t1 = np.interp([T0, T1], T[::-1], time[::-1])\n",
    "    t = np.geomspace(t0, t1, n_step)\n",
    "    y = np.zeros(N)\n",
    "    y[n_index] = 1 / (np.exp((mn - mp) / T0) + 1)\n",
    "    y[p_index] = 1 - y[n_index]  # initial condition\n",
    "    s = solve_ivp(reaction_eq, t[[0, -1]], y, 'Radau',\n",
    "                  t_eval=t, jac=jac, **kw)\n",
    "    X = (s.y.T * A).T[[e_name.index(i) for i in index]]\n",
    "    return np.interp(t, time, T), X"
   ]
  },
  {
   "cell_type": "markdown",
   "id": "3a92ba2c-7ec6-4dda-9fa6-226f538f6eeb",
   "metadata": {},
   "source": [
    "## Evolution of mass fraction of different nuclei from 10^10K to 10^8 K"
   ]
  },
  {
   "cell_type": "code",
   "execution_count": 160,
   "id": "ed37f5d5-c647-4976-9968-dc40cc27cd57",
   "metadata": {},
   "outputs": [
    {
     "data": {
      "image/png": "[encoded data removed]",
      "text/plain": [
       "<Figure size 640x480 with 1 Axes>"
      ]
     },
     "metadata": {},
     "output_type": "display_data"
    }
   ],
   "source": [
    "# Plotting the evolution of different mass fraction\n",
    "index = ['neutron', 'proton', 'deutron', 'tritium',\n",
    "         'helium3', 'helium4', 'lithium7', 'beryllium7']\n",
    "label = ['n', 'p', 'd', '$H^3$', r'He$^3$',\n",
    "         r'He$^4$', r'Li$^7$', r'Be$^7$']\n",
    "\n",
    "T,X = BBN(5e-10, index, atol=1e-13)\n",
    "plt.axis([2, 1e-2, 1e-13, 2]) #This list contains four values, specifying the limits for the x and y axes in the format [xmin, xmax, ymin, ymax].\n",
    "plt.loglog(T, X.T)\n",
    "plt.xlabel('T = temperature / MeV')\n",
    "plt.ylabel('X = mass fraction')\n",
    "plt.legend(label)\n",
    "plt.show()"
   ]
  },
  {
   "cell_type": "markdown",
   "id": "ac86dc61-abf4-4b1a-8b13-1ff59e7f981b",
   "metadata": {},
   "source": [
    "As can be seen, the formation of $H^3$ and $He^3$ didnot happen unitil the deutrons become abundant enough. This delay in the synthesis of hevier nuclei is called the deuterium bottleneck. The reaction producing $He^4$ nuclei will start a bit later once $H^3$ and $He^3$ become abundant for enough collison to happen. This is the $He^3$ bottleneck. The p-n collison decreases as the $X_n$ decreses due to neutron decay and the deutrons also decreases and saturates. This is because whatever the amount of deutrons are produced from $p-n$ collisons, equal amount of deutrons get converted to $He^4$. As the universe cools more, there wont be enough collsions between the particles and the abundances saturates . "
   ]
  }
 ],
 "metadata": {
  "kernelspec": {
   "display_name": "Python 3 (ipykernel)",
   "language": "python",
   "name": "python3"
  },
  "language_info": {
   "codemirror_mode": {
    "name": "ipython",
    "version": 3
   },
   "file_extension": ".py",
   "mimetype": "text/x-python",
   "name": "python",
   "nbconvert_exporter": "python",
   "pygments_lexer": "ipython3",
   "version": "3.11.5"
  }
 },
 "nbformat": 4,
 "nbformat_minor": 5
}
